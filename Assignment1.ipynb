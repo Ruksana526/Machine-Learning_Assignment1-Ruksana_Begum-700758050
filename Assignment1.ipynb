{
  "nbformat": 4,
  "nbformat_minor": 0,
  "metadata": {
    "colab": {
      "provenance": []
    },
    "kernelspec": {
      "name": "python3",
      "display_name": "Python 3"
    },
    "language_info": {
      "name": "python"
    }
  },
  "cells": [
    {
      "cell_type": "code",
      "execution_count": 1,
      "metadata": {
        "colab": {
          "base_uri": "https://localhost:8080/"
        },
        "id": "m1KMQJZS0YdJ",
        "outputId": "04722fcd-c660-404c-f4c0-42a29bd2e782"
      },
      "outputs": [
        {
          "output_type": "stream",
          "name": "stdout",
          "text": [
            "Min Age: 19\n",
            "Max Age: 26\n",
            "Median Age: 24.0\n",
            "Average Age: 22.75\n",
            "Age Range: 7\n"
          ]
        }
      ],
      "source": [
        "# ages\n",
        "ages = [19, 22, 19, 24, 20, 25, 26, 24, 25, 24]\n",
        "\n",
        "# Sorting the list ages\n",
        "ages.sort()\n",
        "\n",
        "# Find min and max age\n",
        "min_age = min(ages)\n",
        "max_age = max(ages)\n",
        "\n",
        "# Add min and max age again to the list\n",
        "ages.extend([min_age, max_age])\n",
        "\n",
        "# Find median age\n",
        "n = len(ages)\n",
        "median_age = (ages[n // 2] + ages[(n - 1) // 2]) / 2\n",
        "\n",
        "# Find average age\n",
        "average_age = sum(ages) / len(ages)\n",
        "\n",
        "# Find range of ages\n",
        "age_range = max_age - min_age\n",
        "\n",
        "print(\"Min Age:\", min_age)\n",
        "print(\"Max Age:\", max_age)\n",
        "print(\"Median Age:\", median_age)\n",
        "print(\"Average Age:\", average_age)\n",
        "print(\"Age Range:\", age_range)\n"
      ]
    },
    {
      "cell_type": "code",
      "source": [
        "# Create an empty dictionary for a dog\n",
        "dog = {}\n",
        "\n",
        "# Add name, color, breed, legs, and age to the dog dictionary\n",
        "dog['name'] = 'Jimmy'\n",
        "dog['color'] = 'Brown'\n",
        "dog['breed'] = 'Bulldog'\n",
        "dog['legs'] = 4\n",
        "dog['age'] = 3\n",
        "\n",
        "# Create a student dictionary\n",
        "student = {}\n",
        "\n",
        "# Add first_name, last_name, gender, age, marital status, skills, country, city, and address to the student dictionary\n",
        "student['first_name'] = 'Yasmine'\n",
        "student['last_name'] = 'Shaik'\n",
        "student['gender'] = 'Female'\n",
        "student['age'] = 25\n",
        "student['marital_status'] = 'Single'\n",
        "student['skills'] = ['Python', 'Data Analysis' , 'java script' , 'AWS', 'MongoDB']\n",
        "student['country'] = 'India'\n",
        "student['city'] = 'Telangana'\n",
        "student['address'] = '123 Prashanth nagar'\n",
        "\n",
        "# Get the length of the student dictionary\n",
        "student_dict_length = 0\n",
        "for key in student:\n",
        "    student_dict_length += 1\n",
        "\n",
        "# Get the value of skills and check the data type\n",
        "skills_value = student['skills']\n",
        "skills_data_type = type(skills_value)\n",
        "\n",
        "# Modify the skills values by adding one or two skills\n",
        "skills_value.append('Machine Learning')\n",
        "skills_value.append('Communication')\n",
        "\n",
        "# Get the dictionary keys as a list\n",
        "student_keys = []\n",
        "for key in student:\n",
        "    student_keys.append(key)\n",
        "\n",
        "# Get the dictionary values as a list\n",
        "student_values = []\n",
        "for value in student.values():\n",
        "    student_values.append(value)\n",
        "\n",
        "# Printing the results\n",
        "print(\"Dog Dictionary:\", dog)\n",
        "print(\"Student Dictionary:\", student)\n",
        "print(\"Length of Student Dictionary:\", student_dict_length)\n",
        "print(\"Data Type of Skills:\", skills_data_type)\n",
        "print(\"Modified Skills:\", skills_value)\n",
        "print(\"Keys of Student Dictionary:\", student_keys)\n",
        "print(\"Values of Student Dictionary:\", student_values)\n",
        "\n"
      ],
      "metadata": {
        "colab": {
          "base_uri": "https://localhost:8080/"
        },
        "id": "izFnQO1920bW",
        "outputId": "db58e5cc-f505-48be-a55d-6878a62509eb"
      },
      "execution_count": 3,
      "outputs": [
        {
          "output_type": "stream",
          "name": "stdout",
          "text": [
            "Dog Dictionary: {'name': 'Jimmy', 'color': 'Brown', 'breed': 'Bulldog', 'legs': 4, 'age': 3}\n",
            "Student Dictionary: {'first_name': 'Yasmine', 'last_name': 'Shaik', 'gender': 'Female', 'age': 25, 'marital_status': 'Single', 'skills': ['Python', 'Data Analysis', 'java script', 'AWS', 'MongoDB', 'Machine Learning', 'Communication'], 'country': 'India', 'city': 'Telangana', 'address': '123 Prashanth nagar'}\n",
            "Length of Student Dictionary: 9\n",
            "Data Type of Skills: <class 'list'>\n",
            "Modified Skills: ['Python', 'Data Analysis', 'java script', 'AWS', 'MongoDB', 'Machine Learning', 'Communication']\n",
            "Keys of Student Dictionary: ['first_name', 'last_name', 'gender', 'age', 'marital_status', 'skills', 'country', 'city', 'address']\n",
            "Values of Student Dictionary: ['Yasmine', 'Shaik', 'Female', 25, 'Single', ['Python', 'Data Analysis', 'java script', 'AWS', 'MongoDB', 'Machine Learning', 'Communication'], 'India', 'Telangana', '123 Prashanth nagar']\n"
          ]
        }
      ]
    },
    {
      "cell_type": "code",
      "source": [
        "# Create a tuple containing names of your sisters and your brothers\n",
        "sisters = ('Farjana', 'Rizwana')\n",
        "brothers = ('Irfan', 'Saleem')\n",
        "\n",
        "# Join brothers and sisters tuples and assign it to siblings\n",
        "siblings = sisters + brothers\n",
        "print(\"siblings:\" ,siblings)\n",
        "\n",
        "# How many siblings do you have?\n",
        "num_siblings = len(siblings)\n",
        "print(f\"Number of siblings: {num_siblings}\")\n",
        "\n",
        "# Modify the siblings tuple and add the name of your father and mother and assign it to family_members\n",
        "Father = 'Raheem'\n",
        "Mother = 'Fathima'\n",
        "family_members = siblings + (Father, Mother)\n",
        "print(f\"Family members: {family_members}\")\n"
      ],
      "metadata": {
        "colab": {
          "base_uri": "https://localhost:8080/"
        },
        "id": "9U6i3y-P5HMg",
        "outputId": "145c5c11-c019-4fa0-ccf7-5cea86612cc5"
      },
      "execution_count": 8,
      "outputs": [
        {
          "output_type": "stream",
          "name": "stdout",
          "text": [
            "siblings: ('Farjana', 'Rizwana', 'Irfan', 'Saleem')\n",
            "Number of siblings: 4\n",
            "Family members: ('Farjana', 'Rizwana', 'Irfan', 'Saleem', 'Raheem', 'Fathima')\n"
          ]
        }
      ]
    },
    {
      "cell_type": "code",
      "source": [
        "# Given sets and list\n",
        "It_companies = {'Facebook', 'Google', 'Microsoft', 'Apple', 'IBM', 'Oracle', 'Amazon'}\n",
        "A = {19, 22, 24, 20, 25, 26}\n",
        "B = {19, 22, 20, 25, 26, 24, 28, 27}\n",
        "age = [22, 19, 24, 25, 26, 24, 25, 24]\n",
        "\n",
        "# 1. Find the length of the set it_companies\n",
        "len_it_companies = len(It_companies)\n",
        "print(\"Length of It_companies set:\", len_it_companies)\n",
        "\n",
        "# 2. Add 'Twitter' to it_companies\n",
        "It_companies.add('Twitter')\n",
        "print(\"Set after adding 'Twitter':\", It_companies)\n",
        "\n",
        "# 3. Insert multiple IT companies at once to the set it_companies\n",
        "It_companies.update({'LinkedIn', 'Netflix'})\n",
        "print(\"Set after adding multiple companies:\", It_companies)\n",
        "\n",
        "# 4. Remove one of the companies from the set it_companies\n",
        "It_companies.remove('IBM')\n",
        "print(\"Set after removing 'IBM':\", It_companies)\n",
        "\n",
        "# 5. Difference between remove and discard\n",
        "# remove() will raise a KeyError if the element does not exist\n",
        "# discard() will not raise any error if the element does not exist\n",
        "\n",
        "# 6. Join A and B\n",
        "joined_set = A.union(B)\n",
        "print(\"Joined set A and B:\", joined_set)\n",
        "\n",
        "# 7. Find A intersection B\n",
        "intersection_set = A.intersection(B)\n",
        "print(\"Intersection of A and B:\", intersection_set)\n",
        "\n",
        "# 8. Is A subset of B\n",
        "is_subset = A.issubset(B)\n",
        "print(\"Is A a subset of B:\", is_subset)\n",
        "\n",
        "# 9. Are A and B disjoint sets\n",
        "are_disjoint = A.isdisjoint(B)\n",
        "print(\"Are A and B disjoint sets:\", are_disjoint)\n",
        "\n",
        "# 10. Join A with B and B with A (both operations are the same)\n",
        "joined_AB = A | B\n",
        "joined_BA = B | A\n",
        "print(\"Join A with B:\", joined_AB)\n",
        "print(\"Join B with A:\", joined_BA)\n",
        "\n",
        "# 11. What is the symmetric difference between A and B\n",
        "symmetric_difference = A.symmetric_difference(B)\n",
        "print(\"Symmetric difference between A and B:\", symmetric_difference)\n",
        "\n",
        "# 12. Delete the sets completely\n",
        "del It_companies, A, B\n",
        "\n",
        "# 13. Convert the ages to a set and compare the length of the list and the set\n",
        "ages_set = set(age)\n",
        "len_age_list = len(age)\n",
        "len_age_set = len(ages_set)\n",
        "print(\"Length of age list:\", len_age_list)\n",
        "print(\"Length of ages set:\", len_age_set)\n"
      ],
      "metadata": {
        "colab": {
          "base_uri": "https://localhost:8080/"
        },
        "id": "zkfnwm007gPI",
        "outputId": "5947cb73-561d-4ca6-bc16-fc9e86097b4f"
      },
      "execution_count": 13,
      "outputs": [
        {
          "output_type": "stream",
          "name": "stdout",
          "text": [
            "Length of It_companies set: 7\n",
            "Set after adding 'Twitter': {'Google', 'IBM', 'Facebook', 'Apple', 'Twitter', 'Microsoft', 'Oracle', 'Amazon'}\n",
            "Set after adding multiple companies: {'Google', 'Twitter', 'LinkedIn', 'IBM', 'Facebook', 'Apple', 'Microsoft', 'Oracle', 'Netflix', 'Amazon'}\n",
            "Set after removing 'IBM': {'Google', 'Twitter', 'LinkedIn', 'Facebook', 'Apple', 'Microsoft', 'Oracle', 'Netflix', 'Amazon'}\n",
            "Joined set A and B: {19, 20, 22, 24, 25, 26, 27, 28}\n",
            "Intersection of A and B: {19, 20, 22, 24, 25, 26}\n",
            "Is A a subset of B: True\n",
            "Are A and B disjoint sets: False\n",
            "Join A with B: {19, 20, 22, 24, 25, 26, 27, 28}\n",
            "Join B with A: {19, 20, 22, 24, 25, 26, 27, 28}\n",
            "Symmetric difference between A and B: {27, 28}\n",
            "Length of age list: 8\n",
            "Length of ages set: 5\n"
          ]
        }
      ]
    },
    {
      "cell_type": "code",
      "source": [
        "# Given radius\n",
        "radius = 30\n",
        "\n",
        "# Approximate value of pi\n",
        "pi = 3.14\n",
        "\n",
        "# 1. Calculate the area of a circle and assign the value to a variable name of _area_of_circle_\n",
        "_area_of_circle_ = pi * radius ** 2\n",
        "print(\"Area of the circle:\", _area_of_circle_)\n",
        "\n",
        "# 2. Calculate the circumference of a circle and assign the value to a variable name of _circum_of_circle_\n",
        "_circum_of_circle_ = 2 * pi * radius\n",
        "print(\"Circumference of the circle:\", _circum_of_circle_)\n",
        "\n",
        "# 3. Take radius as user input and calculate the area\n",
        "user_radius = float(input(\"Enter the radius of the circle: \"))\n",
        "user_area_of_circle = pi * user_radius ** 2\n",
        "print(\"Area of the circle with user-provided radius:\", user_area_of_circle)\n"
      ],
      "metadata": {
        "colab": {
          "base_uri": "https://localhost:8080/"
        },
        "id": "7pY4p6ri9PAg",
        "outputId": "ec066c29-72c5-42d0-b7fb-05cfa23a87d8"
      },
      "execution_count": 14,
      "outputs": [
        {
          "output_type": "stream",
          "name": "stdout",
          "text": [
            "Area of the circle: 2826.0\n",
            "Circumference of the circle: 188.4\n",
            "Enter the radius of the circle: 12\n",
            "Area of the circle with user-provided radius: 452.16\n"
          ]
        }
      ]
    },
    {
      "cell_type": "code",
      "source": [
        "# Given sentence\n",
        "sentence = \"I am a teacher and I love to inspire and teach people\"\n",
        "\n",
        "# Split the sentence into words\n",
        "words = sentence.split()\n",
        "\n",
        "# Convert the list of words to a set to get unique words\n",
        "unique_words = set(words)\n",
        "\n",
        "# Find the number of unique words\n",
        "num_unique_words = len(unique_words)\n",
        "\n",
        "print(\"Number of unique words:\", num_unique_words)\n",
        "print(\"Unique words:\", unique_words)\n"
      ],
      "metadata": {
        "colab": {
          "base_uri": "https://localhost:8080/"
        },
        "id": "lM5eFdPh-R21",
        "outputId": "f9a35f31-2ec4-4a6c-ed77-81e2c3d4bce2"
      },
      "execution_count": 15,
      "outputs": [
        {
          "output_type": "stream",
          "name": "stdout",
          "text": [
            "Number of unique words: 10\n",
            "Unique words: {'people', 'inspire', 'I', 'am', 'teacher', 'a', 'to', 'teach', 'and', 'love'}\n"
          ]
        }
      ]
    },
    {
      "cell_type": "code",
      "source": [
        "# Using tab escape sequence to format the lines\n",
        "line1 = \"Name\\tAge\\tCountry\\tCity\"\n",
        "line2 = \"Asabeneh\\t250\\tFinland\\tHelsinki\"\n",
        "\n",
        "# Printing the lines\n",
        "print(line1)\n",
        "print(line2)\n"
      ],
      "metadata": {
        "colab": {
          "base_uri": "https://localhost:8080/"
        },
        "id": "ddH5rHm_-wNH",
        "outputId": "f64b7316-2bb2-4276-8fb3-a4d68d0f6b0b"
      },
      "execution_count": 16,
      "outputs": [
        {
          "output_type": "stream",
          "name": "stdout",
          "text": [
            "Name\tAge\tCountry\tCity\n",
            "Asabeneh\t250\tFinland\tHelsinki\n"
          ]
        }
      ]
    },
    {
      "cell_type": "code",
      "source": [
        "# Given radius\n",
        "radius = 10\n",
        "\n",
        "# Calculate the area\n",
        "area = 3.14 * radius ** 2\n",
        "\n",
        "# Use string formatting to display the result\n",
        "result = f\"The area of a circle with radius {radius} is {area} meters square.\"\n",
        "\n",
        "# Print the result\n",
        "print(result)\n"
      ],
      "metadata": {
        "colab": {
          "base_uri": "https://localhost:8080/"
        },
        "id": "H6ODyFPnAFyH",
        "outputId": "69cba283-1083-405a-f61d-0db1735b95fb"
      },
      "execution_count": 17,
      "outputs": [
        {
          "output_type": "stream",
          "name": "stdout",
          "text": [
            "The area of a circle with radius 10 is 314.0 meters square.\n"
          ]
        }
      ]
    },
    {
      "cell_type": "code",
      "source": [
        "# Read the number of students (N) from the user\n",
        "N = int(input(\"Enter the number of students: \"))\n",
        "\n",
        "# Initialize an empty list to store the weights in pounds\n",
        "weights_lbs = []\n",
        "\n",
        "# Read the weights of N students into the list\n",
        "for i in range(N):\n",
        "    weight_lbs = float(input(f\"Enter the weight of student {i+1} in pounds: \"))\n",
        "    weights_lbs.append(weight_lbs)\n",
        "\n",
        "# Convert the weights from pounds to kilograms and store them in a separate list\n",
        "weights_kgs = []\n",
        "for weight_lbs in weights_lbs:\n",
        "    weight_kgs = weight_lbs * 0.453592  # 1 pound = 0.453592 kilograms\n",
        "    weights_kgs.append(round(weight_kgs, 2))  # Round the result to two decimal places\n",
        "\n",
        "# Print the list of weights in kilograms\n",
        "print(\"Weights in kilograms:\", weights_kgs)\n"
      ],
      "metadata": {
        "colab": {
          "base_uri": "https://localhost:8080/"
        },
        "id": "d6Q_kIDNAizM",
        "outputId": "22ecd588-54a7-4b81-df4a-f75e65297ec2"
      },
      "execution_count": 18,
      "outputs": [
        {
          "output_type": "stream",
          "name": "stdout",
          "text": [
            "Enter the number of students: 4\n",
            "Enter the weight of student 1 in pounds: 150\n",
            "Enter the weight of student 2 in pounds: 155\n",
            "Enter the weight of student 3 in pounds: 145\n",
            "Enter the weight of student 4 in pounds: 148\n",
            "Weights in kilograms: [68.04, 70.31, 65.77, 67.13]\n"
          ]
        }
      ]
    }
  ]
}